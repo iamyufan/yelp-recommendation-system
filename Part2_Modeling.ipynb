{
  "cells": [
    {
      "cell_type": "markdown",
      "metadata": {
        "id": "aLhfQKtf9uIv"
      },
      "source": [
        "# Part 2. Modeling\n",
        "\n",
        "See other steps of the project: [notebook](https://colab.research.google.com/drive/1s0XYX2Rs55jqJtCglGXmHeakkTGe-5ha?usp=sharing)"
      ]
    },
    {
      "cell_type": "markdown",
      "metadata": {
        "id": "oNRkcRnXDkJ4"
      },
      "source": [
        "## I. Preparation"
      ]
    },
    {
      "cell_type": "markdown",
      "metadata": {
        "id": "Y9d3pqenf3Rh"
      },
      "source": [
        "### Install Spark"
      ]
    },
    {
      "cell_type": "code",
      "execution_count": 1,
      "metadata": {
        "colab": {
          "base_uri": "https://localhost:8080/",
          "height": 560
        },
        "id": "OP2ON-symIP8",
        "outputId": "a9595946-9ac0-4ce9-9720-7777a1edb90a"
      },
      "outputs": [
        {
          "name": "stdout",
          "output_type": "stream",
          "text": [
            "\u001b[33m\r0% [Working]\u001b[0m\r            \rHit:1 https://cloud.r-project.org/bin/linux/ubuntu jammy-cran40/ InRelease\n",
            "\u001b[33m\r0% [Connecting to archive.ubuntu.com (185.125.190.39)] [Connecting to security.\u001b[0m\r                                                                               \rHit:2 https://developer.download.nvidia.com/compute/cuda/repos/ubuntu2204/x86_64  InRelease\n",
            "\u001b[33m\r0% [Connecting to archive.ubuntu.com (185.125.190.39)] [Waiting for headers] [C\u001b[0m\r                                                                               \rHit:3 http://security.ubuntu.com/ubuntu jammy-security InRelease\n",
            "Hit:4 http://archive.ubuntu.com/ubuntu jammy InRelease\n",
            "Hit:5 http://archive.ubuntu.com/ubuntu jammy-updates InRelease\n",
            "Hit:6 https://ppa.launchpadcontent.net/c2d4u.team/c2d4u4.0+/ubuntu jammy InRelease\n",
            "Hit:7 http://archive.ubuntu.com/ubuntu jammy-backports InRelease\n",
            "Hit:8 https://ppa.launchpadcontent.net/deadsnakes/ppa/ubuntu jammy InRelease\n",
            "Hit:9 https://ppa.launchpadcontent.net/graphics-drivers/ppa/ubuntu jammy InRelease\n",
            "Hit:10 https://ppa.launchpadcontent.net/ubuntugis/ppa/ubuntu jammy InRelease\n",
            "Reading package lists... Done\n",
            "Building dependency tree... Done\n",
            "Reading state information... Done\n",
            "51 packages can be upgraded. Run 'apt list --upgradable' to see them.\n",
            "tar: spark-3.2.1-bin-hadoop3.2.tgz: Cannot open: No such file or directory\n",
            "tar: Error is not recoverable: exiting now\n",
            "Requirement already satisfied: pyspark in /usr/local/lib/python3.10/dist-packages (3.5.1)\n",
            "Requirement already satisfied: py4j==0.10.9.7 in /usr/local/lib/python3.10/dist-packages (from pyspark) (0.10.9.7)\n",
            "Requirement already satisfied: py4j in /usr/local/lib/python3.10/dist-packages (0.10.9.7)\n"
          ]
        },
        {
          "data": {
            "text/html": [
              "\n",
              "            <div>\n",
              "                <p><b>SparkSession - in-memory</b></p>\n",
              "                \n",
              "        <div>\n",
              "            <p><b>SparkContext</b></p>\n",
              "\n",
              "            <p><a href=\"http://9fa91f29a1c1:4040\">Spark UI</a></p>\n",
              "\n",
              "            <dl>\n",
              "              <dt>Version</dt>\n",
              "                <dd><code>v3.5.1</code></dd>\n",
              "              <dt>Master</dt>\n",
              "                <dd><code>local[*]</code></dd>\n",
              "              <dt>AppName</dt>\n",
              "                <dd><code>Our First Spark Example</code></dd>\n",
              "            </dl>\n",
              "        </div>\n",
              "        \n",
              "            </div>\n",
              "        "
            ],
            "text/plain": [
              "<pyspark.sql.session.SparkSession at 0x78c42170b610>"
            ]
          },
          "execution_count": 1,
          "metadata": {},
          "output_type": "execute_result"
        }
      ],
      "source": [
        "!sudo apt update\n",
        "!apt-get install openjdk-8-jdk-headless -qq > /dev/null\n",
        "#Check this site for the latest download link https://www.apache.org/dyn/closer.lua/spark/spark-3.2.1/spark-3.2.1-bin-hadoop3.2.tgz\n",
        "!wget -q https://dlcdn.apache.org/spark/spark-3.2.1/spark-3.2.1-bin-hadoop3.2.tgz\n",
        "!tar xf spark-3.2.1-bin-hadoop3.2.tgz\n",
        "!pip install -q findspark\n",
        "!pip install pyspark\n",
        "!pip install py4j\n",
        "\n",
        "import os\n",
        "import sys\n",
        "# os.environ[\"JAVA_HOME\"] = \"/usr/lib/jvm/java-8-openjdk-amd64\"\n",
        "# os.environ[\"SPARK_HOME\"] = \"/content/spark-3.2.1-bin-hadoop3.2\"\n",
        "\n",
        "\n",
        "import findspark\n",
        "findspark.init()\n",
        "findspark.find()\n",
        "\n",
        "import pyspark\n",
        "\n",
        "from pyspark.sql import DataFrame, SparkSession\n",
        "from typing import List\n",
        "import pyspark.sql.types as T\n",
        "import pyspark.sql.functions as F\n",
        "\n",
        "spark= SparkSession \\\n",
        "       .builder \\\n",
        "       .appName(\"Our First Spark Example\") \\\n",
        "       .getOrCreate()\n",
        "\n",
        "spark"
      ]
    },
    {
      "cell_type": "markdown",
      "metadata": {
        "id": "V7bE5iDcDoNq"
      },
      "source": [
        "### Import Packages"
      ]
    },
    {
      "cell_type": "code",
      "execution_count": 2,
      "metadata": {
        "id": "bm4L06nloH0V"
      },
      "outputs": [],
      "source": [
        "import json\n",
        "import os\n",
        "\n",
        "import seaborn as sns\n",
        "import matplotlib\n",
        "import matplotlib.pyplot as plt\n",
        "%matplotlib inline\n",
        "\n",
        "import pandas as pd\n",
        "import numpy as np\n",
        "\n",
        "from collections import Counter"
      ]
    },
    {
      "cell_type": "code",
      "execution_count": 3,
      "metadata": {
        "colab": {
          "base_uri": "https://localhost:8080/"
        },
        "id": "BSTYo2pWoDF7",
        "outputId": "47b9d2ef-0c36-4af0-e802-2a028fd73d69"
      },
      "outputs": [
        {
          "name": "stdout",
          "output_type": "stream",
          "text": [
            "Drive already mounted at /content/drive/; to attempt to forcibly remount, call drive.mount(\"/content/drive/\", force_remount=True).\n"
          ]
        }
      ],
      "source": [
        "# Connect to the drive\n",
        "from google.colab import drive\n",
        "drive.mount('/content/drive/')\n"
      ]
    },
    {
      "cell_type": "code",
      "execution_count": 4,
      "metadata": {
        "id": "gE8KDn4fn-HX"
      },
      "outputs": [],
      "source": [
        "DATA_PATH = \"/content/drive/MyDrive/DSW/yelp_dataset\"\n",
        "FEATURE_PATH = \"/content/drive/MyDrive/DSW/features\"\n",
        "TRANSFORMED_FEATURE_PATH = \"/content/drive/MyDrive/DSW/transformed_features\""
      ]
    },
    {
      "cell_type": "code",
      "execution_count": 5,
      "metadata": {
        "colab": {
          "base_uri": "https://localhost:8080/"
        },
        "id": "eHXY36lXoRQb",
        "outputId": "f85e9bb6-cc2d-4e34-e7bc-562203300bb4"
      },
      "outputs": [
        {
          "name": "stdout",
          "output_type": "stream",
          "text": [
            "total 9073854\n",
            "-rw------- 1 root root  118863795 Jan 19  2022 yelp_academic_dataset_business.json\n",
            "-rw------- 1 root root  286958945 Jan 19  2022 yelp_academic_dataset_checkin.json\n",
            "-rw------- 1 root root 5341868833 Jan 19  2022 yelp_academic_dataset_review.json\n",
            "-rw------- 1 root root  180604475 Jan 19  2022 yelp_academic_dataset_tip.json\n",
            "-rw------- 1 root root 3363329011 Jan 19  2022 yelp_academic_dataset_user.json\n",
            "total 1015568\n",
            "-rw------- 1 root root  10195012 May 12 19:46 restaurant_features.csv\n",
            "-rw------- 1 root root 381844567 May 12 19:47 review_df.csv\n",
            "-rw------- 1 root root 595644167 May 12 19:47 user_features.csv\n",
            "-rw------- 1 root root  52255945 May 12 19:47 user_id_to_index.json\n",
            "total 868494\n",
            "-rw------- 1 root root   2202200 May 12 19:47 business_id_to_index.json\n",
            "-rw------- 1 root root 181965035 May 12 19:48 review_id_to_index.json\n",
            "-rw------- 1 root root   9043712 May 12 19:47 transformed_restaurant_features.csv\n",
            "-rw------- 1 root root 127527428 May 12 19:49 transformed_review_df.csv\n",
            "-rw------- 1 root root  12753266 May 12 20:10 transformed_review_df_sample.csv\n",
            "-rw------- 1 root root 555844462 May 12 19:48 transformed_user_features.csv\n"
          ]
        }
      ],
      "source": [
        "!ls -l $DATA_PATH\n",
        "!ls -l $FEATURE_PATH\n",
        "!ls -l $TRANSFORMED_FEATURE_PATH"
      ]
    },
    {
      "cell_type": "code",
      "execution_count": 6,
      "metadata": {
        "id": "ffqi0RRFprT7"
      },
      "outputs": [],
      "source": [
        "from pyspark.sql import SparkSession\n",
        "from pyspark.ml.recommendation import ALS\n",
        "from pyspark.ml.evaluation import RegressionEvaluator\n",
        "from pyspark.ml.feature import StringIndexer"
      ]
    },
    {
      "cell_type": "markdown",
      "metadata": {
        "id": "LGrypkObf9xg"
      },
      "source": [
        "### Initialize a Spark Session"
      ]
    },
    {
      "cell_type": "code",
      "execution_count": 14,
      "metadata": {
        "id": "8mR6Cd_3I9oh"
      },
      "outputs": [],
      "source": [
        "# Set up Spark session\n",
        "spark = SparkSession.builder\\\n",
        "        .master(\"local[*]\")\\\n",
        "        .appName(\"RecommendationSystem\")\\\n",
        "        .getOrCreate()"
      ]
    },
    {
      "cell_type": "markdown",
      "metadata": {
        "id": "KcE4qGNgDrhr"
      },
      "source": [
        "## II. Data Loading"
      ]
    },
    {
      "cell_type": "markdown",
      "metadata": {
        "id": "b-uL9DRLgFrl"
      },
      "source": [
        "### Load the tables"
      ]
    },
    {
      "cell_type": "code",
      "execution_count": 15,
      "metadata": {
        "colab": {
          "base_uri": "https://localhost:8080/"
        },
        "id": "idF4uy8RHSnv",
        "outputId": "57ddae91-81f8-4179-d19f-ede57d53ed9f"
      },
      "outputs": [
        {
          "name": "stdout",
          "output_type": "stream",
          "text": [
            "+-------+-----------+-----+\n",
            "|user_id|business_id|stars|\n",
            "+-------+-----------+-----+\n",
            "| 151344|      59659|  3.0|\n",
            "|  29944|      51361|  4.0|\n",
            "| 261703|      61502|  5.0|\n",
            "| 343258|       6634|  5.0|\n",
            "|   4952|       8229|  2.0|\n",
            "+-------+-----------+-----+\n",
            "only showing top 5 rows\n",
            "\n"
          ]
        }
      ],
      "source": [
        "# Revew table\n",
        "# review_df = spark.read.csv(os.path.join(TRANSFORMED_FEATURE_PATH, 'transformed_review_df.csv'), header=True, inferSchema=True)\n",
        "review_df = spark.read.csv(os.path.join(TRANSFORMED_FEATURE_PATH, 'transformed_review_df_sample.csv'), header=True, inferSchema=True)\n",
        "review_df = review_df.selectExpr(\"cast(user_id as int)\", \"cast(business_id as int)\", \"cast(stars as float)\")\n",
        "review_df.show(5)\n"
      ]
    },
    {
      "cell_type": "code",
      "execution_count": 16,
      "metadata": {
        "colab": {
          "base_uri": "https://localhost:8080/"
        },
        "id": "RhLu1wYKJQCi",
        "outputId": "c4227952-5a1a-4ee8-c0d0-ad68a7c60243"
      },
      "outputs": [
        {
          "name": "stdout",
          "output_type": "stream",
          "text": [
            "+-----------+----------------+-----------------------+-------+--------------+----------------------+------------+--------+--------+----+----+------------------+-------+-----+--------+-------------+-------+-------------+------------+-----+------+---------+----+-------------------------+-------+--------+----------------------+-------+-----+----+-----------+-----+----------+-------+--------------+----------+--------------+------+-----------------------+-----------+-----+------------------+--------------------------+-----------+-------------------+------------------------+--------------+----+----------------------+----------+-------+------+------+---+-----+--------+-------+--------+-----+--------+------+-------+------+------+\n",
            "|business_id|restaurant_stars|restaurant_review_count|is_open|American (New)|American (Traditional)|Asian Fusion|Bakeries|Barbeque|Bars|Beer|Breakfast & Brunch|Burgers|Cafes|Caterers|Chicken Wings|Chinese|Cocktail Bars|Coffee & Tea|Delis|Diners|Fast Food|Food|Ice Cream & Frozen Yogurt|Italian|Japanese|Juice Bars & Smoothies|Mexican|Pizza|Pubs|Restaurants|Salad|Sandwiches|Seafood|Specialty Food|Sushi Bars|Wine & Spirits|Caters|RestaurantsReservations|BikeParking|HasTV|RestaurantsTakeOut|BusinessAcceptsCreditCards|GoodForKids|RestaurantsDelivery|RestaurantsGoodForGroups|OutdoorSeating|WiFi|RestaurantsPriceRange2|NoiseLevel|Alcohol|garage|street|lot|valet|touristy|hipster|romantic|divey|intimate|trendy|upscale|classy|casual|\n",
            "+-----------+----------------+-----------------------+-------+--------------+----------------------+------------+--------+--------+----+----+------------------+-------+-----+--------+-------------+-------+-------------+------------+-----+------+---------+----+-------------------------+-------+--------+----------------------+-------+-----+----+-----------+-----+----------+-------+--------------+----------+--------------+------+-----------------------+-----------+-----+------------------+--------------------------+-----------+-------------------+------------------------+--------------+----+----------------------+----------+-------+------+------+---+-----+--------+-------+--------+-----+--------+------+-------+------+------+\n",
            "|          0|             4.0|                     80|      1|             0|                     0|           0|       1|       0|   0|   0|                 0|      0|    0|       0|            0|      0|            0|           1|    0|     0|        0|   1|                        0|      0|       0|                     0|      0|    0|   0|          1|    0|         0|      0|             0|         0|             0|     1|                      0|          1|    0|                 1|                         0|          0|                  0|                       0|             0|   2|                     1|         2|      0|     0|     1|  0|    0|       0|      0|       0|    0|       0|     0|      0|     0|     0|\n",
            "|          1|             4.5|                     13|      1|             0|                     0|           0|       0|       0|   0|   0|                 0|      0|    0|       0|            0|      0|            0|           0|    0|     0|        0|   1|                        0|      0|       0|                     0|      0|    0|   0|          0|    0|         0|      0|             0|         0|             0|     0|                      0|          1|    0|                 1|                         1|          1|                  0|                       0|             0|   0|                     0|         2|      0|     0|     0|  1|    0|       0|      0|       0|    0|       0|     0|      0|     0|     0|\n",
            "|          2|             2.0|                      6|      1|             0|                     0|           0|       0|       0|   0|   0|                 0|      1|    0|       0|            0|      0|            0|           0|    0|     0|        1|   1|                        1|      0|       0|                     0|      0|    0|   0|          1|    0|         1|      0|             0|         0|             0|     0|                      0|          0|    1|                 1|                         1|          1|                  1|                       1|             1|   0|                     1|         2|      0|     0|     0|  0|    0|       0|      0|       0|    0|       0|     0|      0|     0|     0|\n",
            "|          3|             3.0|                     19|      0|             0|                     1|           0|       0|       0|   1|   0|                 0|      0|    0|       0|            0|      0|            0|           0|    0|     0|        0|   0|                        0|      1|       0|                     0|      0|    0|   1|          1|    0|         0|      0|             0|         0|             0|     1|                      0|          0|    1|                 1|                         1|          1|                  0|                       1|             1|   2|                     1|         2|      2|     0|     0|  1|    0|       0|      0|       0|    0|       0|     0|      0|     0|     0|\n",
            "|          4|             1.5|                     10|      1|             0|                     0|           0|       0|       0|   0|   0|                 0|      1|    0|       0|            0|      0|            0|           0|    0|     0|        1|   1|                        1|      0|       0|                     0|      0|    0|   0|          1|    0|         0|      0|             0|         0|             0|     0|                      0|          0|    1|                 1|                         1|          1|                  1|                       0|             1|   0|                     1|         2|      0|     0|     0|  0|    0|       0|      0|       0|    0|       0|     0|      0|     0|     0|\n",
            "+-----------+----------------+-----------------------+-------+--------------+----------------------+------------+--------+--------+----+----+------------------+-------+-----+--------+-------------+-------+-------------+------------+-----+------+---------+----+-------------------------+-------+--------+----------------------+-------+-----+----+-----------+-----+----------+-------+--------------+----------+--------------+------+-----------------------+-----------+-----+------------------+--------------------------+-----------+-------------------+------------------------+--------------+----+----------------------+----------+-------+------+------+---+-----+--------+-------+--------+-----+--------+------+-------+------+------+\n",
            "only showing top 5 rows\n",
            "\n"
          ]
        }
      ],
      "source": [
        "# Restaurant features\n",
        "restaurant_features = spark.read.csv(os.path.join(TRANSFORMED_FEATURE_PATH, 'transformed_restaurant_features.csv'), header=True, inferSchema=True)\n",
        "restaurant_features = restaurant_features.withColumnRenamed('stars', 'restaurant_stars')\n",
        "restaurant_features = restaurant_features.withColumnRenamed('review_count', 'restaurant_review_count')\n",
        "restaurant_features.show(5)\n"
      ]
    },
    {
      "cell_type": "code",
      "execution_count": 17,
      "metadata": {
        "colab": {
          "base_uri": "https://localhost:8080/"
        },
        "id": "3ZZqtembJSAc",
        "outputId": "36e9e840-cac5-49cb-aadd-90d046445e3a"
      },
      "outputs": [
        {
          "name": "stdout",
          "output_type": "stream",
          "text": [
            "+-------+---------------------+------------------+------------------+------------------+------------------+------------------+-------------------+-----------------+------------------+-------------------+-------------------+-------------------+------------------+------------------+-------------------+-------------------+-------------------+------------------+---+-------------+\n",
            "|user_id|rescaled_friend_count| user_review_count|            useful|             funny|              cool|              fans|   elite_year_count|   compliment_hot|   compliment_more| compliment_profile|    compliment_cute|    compliment_list|   compliment_note|  compliment_plain|    compliment_cool|   compliment_funny|  compliment_writer| compliment_photos|age|average_stars|\n",
            "+-------+---------------------+------------------+------------------+------------------+------------------+------------------+-------------------+-----------------+------------------+-------------------+-------------------+-------------------+------------------+------------------+-------------------+-------------------+-------------------+------------------+---+-------------+\n",
            "|      0|    1.967915068642864|2.2079774001780392|2.4001630632092623| 1.945862907902636|  1.98342452070858| 2.042883245767364|  4.084629394601201|3.163071918757863|3.2337396407414896|  5.084455466930772| 6.3609917607455575|    9.7331959762247|2.2260664619415564|2.1742008406586573| 2.5335414489803627| 2.5335414489803627| 2.7696323371334777|3.5121079704053457| 15|         3.91|\n",
            "|      1|    1.888645947538418|2.5901405047304564| 2.555145659793234| 1.960070950969401|1.9906779339775984| 2.042884410311724| 4.0859515778331925|3.163071918757863|3.2337396407414896|  5.084455466930772| 6.3609917607455575|    9.7331959762247| 2.226066464324423| 2.174200841368364|  2.533541448990811|  2.533541448990811|  2.769632337133494|3.5121079704053457| 13|         3.74|\n",
            "|      2|     1.57626980326681| 2.239748199760234| 2.242064547317581| 1.942885322918475| 1.958685300594722| 2.042803770218183|  4.085951574287383|3.163071918757823| 3.233739640738838|  5.084455466930772| 6.3609917607455575|    9.7331959762247| 2.226066184231955|2.1741999965458723| 2.5335414454144605| 2.5335414454144605|  2.769632335680851|3.5121079704043736| 14|         3.32|\n",
            "|      3|   1.3452593063263265|1.9280869499466884|1.9906448947575084|1.9179381724346665|1.9166714606933857| 2.042494432289736|  4.085951174164942|3.163071918387808| 3.233739498054393|   5.08445527206791| 6.3609917607455575|    9.7331959762247| 2.225918301822844| 2.173949132610804|  2.533539305809741|  2.533539305809741| 2.7696305575031883|3.5121079698651867| 17|         4.27|\n",
            "|      4|   0.8282385415991114|1.5220661601436316|1.0984807458521726|1.5690025613535066|1.2131223215330975|1.6196723052236348|-0.2447535103542934|3.138299019080736|  3.23142474437625|-0.1966778999080259|-0.1572081897953467|-0.1027411759141295| 2.035696469975751| 1.897968753303404|-0.4058282760731034|-0.4058282760731034|-0.3642370008555134|-0.284894067083338| 15|         3.54|\n",
            "+-------+---------------------+------------------+------------------+------------------+------------------+------------------+-------------------+-----------------+------------------+-------------------+-------------------+-------------------+------------------+------------------+-------------------+-------------------+-------------------+------------------+---+-------------+\n",
            "only showing top 5 rows\n",
            "\n"
          ]
        }
      ],
      "source": [
        "# User features\n",
        "user_features = spark.read.csv(os.path.join(TRANSFORMED_FEATURE_PATH, 'transformed_user_features.csv'), header=True, inferSchema=True)\n",
        "user_features = user_features.withColumnRenamed('review_count', 'user_review_count')\n",
        "user_features.show(5)\n"
      ]
    },
    {
      "cell_type": "markdown",
      "metadata": {
        "id": "mZRNRg2DLQfT"
      },
      "source": [
        "**Merge the features onto the review table:**\n",
        "\n",
        "Each row represents a user-restaurant interaction with corresponding user and restaurant features"
      ]
    },
    {
      "cell_type": "code",
      "execution_count": 18,
      "metadata": {
        "colab": {
          "base_uri": "https://localhost:8080/"
        },
        "id": "OSrdm0FeJffN",
        "outputId": "9088064b-932a-4f07-ae28-95c3676cd069"
      },
      "outputs": [
        {
          "name": "stdout",
          "output_type": "stream",
          "text": [
            "+-------+-----------+-----+----------------+-----------------------+-------+--------------+----------------------+------------+--------+--------+----+----+------------------+-------+-----+--------+-------------+-------+-------------+------------+-----+------+---------+----+-------------------------+-------+--------+----------------------+-------+-----+----+-----------+-----+----------+-------+--------------+----------+--------------+------+-----------------------+-----------+-----+------------------+--------------------------+-----------+-------------------+------------------------+--------------+----+----------------------+----------+-------+------+------+---+-----+--------+-------+--------+-----+--------+------+-------+------+------+---------------------+-------------------+------------------+------------------+------------------+-------------------+-------------------+------------------+------------------+-------------------+-------------------+-------------------+-------------------+-------------------+-------------------+-------------------+-------------------+------------------+---+-------------+\n",
            "|user_id|business_id|stars|restaurant_stars|restaurant_review_count|is_open|American (New)|American (Traditional)|Asian Fusion|Bakeries|Barbeque|Bars|Beer|Breakfast & Brunch|Burgers|Cafes|Caterers|Chicken Wings|Chinese|Cocktail Bars|Coffee & Tea|Delis|Diners|Fast Food|Food|Ice Cream & Frozen Yogurt|Italian|Japanese|Juice Bars & Smoothies|Mexican|Pizza|Pubs|Restaurants|Salad|Sandwiches|Seafood|Specialty Food|Sushi Bars|Wine & Spirits|Caters|RestaurantsReservations|BikeParking|HasTV|RestaurantsTakeOut|BusinessAcceptsCreditCards|GoodForKids|RestaurantsDelivery|RestaurantsGoodForGroups|OutdoorSeating|WiFi|RestaurantsPriceRange2|NoiseLevel|Alcohol|garage|street|lot|valet|touristy|hipster|romantic|divey|intimate|trendy|upscale|classy|casual|rescaled_friend_count|  user_review_count|            useful|             funny|              cool|               fans|   elite_year_count|    compliment_hot|   compliment_more| compliment_profile|    compliment_cute|    compliment_list|    compliment_note|   compliment_plain|    compliment_cool|   compliment_funny|  compliment_writer| compliment_photos|age|average_stars|\n",
            "+-------+-----------+-----+----------------+-----------------------+-------+--------------+----------------------+------------+--------+--------+----+----+------------------+-------+-----+--------+-------------+-------+-------------+------------+-----+------+---------+----+-------------------------+-------+--------+----------------------+-------+-----+----+-----------+-----+----------+-------+--------------+----------+--------------+------+-----------------------+-----------+-----+------------------+--------------------------+-----------+-------------------+------------------------+--------------+----+----------------------+----------+-------+------+------+---+-----+--------+-------+--------+-----+--------+------+-------+------+------+---------------------+-------------------+------------------+------------------+------------------+-------------------+-------------------+------------------+------------------+-------------------+-------------------+-------------------+-------------------+-------------------+-------------------+-------------------+-------------------+------------------+---+-------------+\n",
            "|  31352|       3045|  5.0|             4.0|                     16|      1|             0|                     0|           0|       0|       0|   0|   0|                 1|      1|    0|       0|            0|      0|            0|           0|    0|     0|        1|   0|                        0|      0|       0|                     0|      0|    0|   0|          1|    0|         0|      0|             0|         0|             0|     0|                      0|          0|    1|                 1|                         1|          1|                  1|                       1|             0|   0|                     1|         2|      0|     0|     0|  1|    0|       0|      0|       0|    0|       0|     0|      0|     0|     0|   1.3565951581661966|   1.49851460010237|1.4144435776985385|1.6145005142623028|1.4702719131632886|  2.026870228611552|-0.2447535103542934|-0.317272571665107|-0.309370886247771|-0.1966778999080259|-0.1572081897953467|-0.1027411759141295|  2.220341944365719| 2.1604126653344715|  2.525835464755296|  2.525835464755296|  2.720580652150168|-0.284894067083338| 12|         3.28|\n",
            "| 261703|      61502|  5.0|             2.0|                    121|      1|             0|                     1|           0|       0|       0|   1|   0|                 0|      0|    0|       0|            1|      0|            0|           0|    0|     0|        0|   0|                        0|      0|       0|                     0|      0|    0|   0|          1|    0|         0|      0|             0|         0|             0|     0|                      0|          0|    1|                 1|                         1|          1|                  1|                       1|             1|   2|                     2|         1|      2|     0|     0|  1|    0|       0|      0|       0|    0|       0|     0|      0|     0|     0|  -0.1489231880257518| 0.9828608354445456| 1.268947088279666|1.5504226873013385|0.7813077626422383|-0.5475506252139275|-0.2447535103542934|-0.317272571665107|-0.309370886247771|-0.1966778999080259|-0.1572081897953467|-0.1027411759141295|   2.18568658895486|-0.4927995469287554|-0.4058282760731034|-0.4058282760731034|-0.3642370008555134|-0.284894067083338| 11|         2.07|\n",
            "| 276136|      45002|  4.0|             3.0|                    379|      1|             0|                     0|           0|       0|       0|   0|   0|                 0|      0|    0|       0|            0|      0|            0|           0|    0|     0|        0|   1|                        0|      1|       0|                     0|      0|    0|   0|          1|    0|         0|      0|             0|         0|             0|     0|                      1|          1|    1|                 1|                         1|          0|                  1|                       1|             1|   0|                     2|         2|      0|     0|     1|  0|    0|       0|      0|       0|    0|       0|     0|      0|     1|     1|  -0.5597226638691225|  0.362844702871097|0.5917911943212308|0.6617433271075269|0.9415071063157704| 1.6196723052236348|-0.2447535103542934|-0.317272571665107|-0.309370886247771|-0.1966778999080259|-0.1572081897953467|-0.1027411759141295|-0.4706836651412692|  1.897968753303404|-0.4058282760731034|-0.4058282760731034|  2.720580652150168|-0.284894067083338|  4|         4.45|\n",
            "| 343258|       6634|  5.0|             3.5|                    301|      1|             0|                     0|           0|       0|       0|   0|   0|                 0|      0|    0|       0|            0|      1|            0|           0|    0|     0|        0|   1|                        0|      0|       0|                     0|      0|    0|   0|          1|    0|         0|      0|             0|         0|             0|     0|                      1|          0|    1|                 1|                         1|          1|                  1|                       1|             1|   0|                     2|         2|      0|     0|     0|  1|    0|       0|      0|       0|    0|       0|     0|      0|     0|     1|  -0.9376590524613584|-0.6732069757861274|  0.21601031367546|-0.886516890709433|-0.929263104390208|-0.5475506252139275|-0.2447535103542934|-0.317272571665107|-0.309370886247771|-0.1966778999080259|-0.1572081897953467|-0.1027411759141295|-0.4706836651412692|-0.4927995469287554|-0.4058282760731034|-0.4058282760731034|-0.3642370008555134|-0.284894067083338|  9|          4.0|\n",
            "|  24129|        357|  5.0|             4.0|                    301|      1|             0|                     0|           0|       0|       0|   0|   0|                 1|      0|    0|       0|            0|      0|            0|           0|    0|     1|        0|   0|                        0|      0|       0|                     0|      0|    0|   0|          1|    0|         1|      0|             0|         0|             0|     0|                      0|          1|    1|                 1|                         1|          1|                  1|                       1|             0|   0|                     1|         2|      0|     0|     1|  0|    0|       0|      0|       0|    0|       0|     0|      0|     0|     1|   1.1818034947131848| 1.7543327298960765| 1.821121253008692|1.7685492649486028|1.8091818726268207| 2.0345815206912885|-0.2447535103542934|-0.317272571665107|  3.23142474437625|-0.1966778999080259|-0.1572081897953467|-0.1027411759141295|-0.4706836651412692|  1.897968753303404|  2.525835464755296|  2.525835464755296| 2.7653216464172234|-0.284894067083338| 14|         4.38|\n",
            "+-------+-----------+-----+----------------+-----------------------+-------+--------------+----------------------+------------+--------+--------+----+----+------------------+-------+-----+--------+-------------+-------+-------------+------------+-----+------+---------+----+-------------------------+-------+--------+----------------------+-------+-----+----+-----------+-----+----------+-------+--------------+----------+--------------+------+-----------------------+-----------+-----+------------------+--------------------------+-----------+-------------------+------------------------+--------------+----+----------------------+----------+-------+------+------+---+-----+--------+-------+--------+-----+--------+------+-------+------+------+---------------------+-------------------+------------------+------------------+------------------+-------------------+-------------------+------------------+------------------+-------------------+-------------------+-------------------+-------------------+-------------------+-------------------+-------------------+-------------------+------------------+---+-------------+\n",
            "only showing top 5 rows\n",
            "\n"
          ]
        }
      ],
      "source": [
        "# Join the user features and restaurant features with the review table\n",
        "# Join review_df with restaurant_features\n",
        "review_restaurant_df = review_df.join(restaurant_features, review_df.business_id == restaurant_features.business_id, \"left\")\n",
        "review_restaurant_df = review_restaurant_df.drop(restaurant_features.business_id)  # Drop duplicate column\n",
        "\n",
        "# Join with user_features\n",
        "full_data_df = review_restaurant_df.join(user_features, review_restaurant_df.user_id == user_features.user_id, \"left\")\n",
        "full_data_df = full_data_df.drop(user_features.user_id)  # Drop duplicate column\n",
        "\n",
        "# Show the first few rows of the joined DataFrame\n",
        "full_data_df.show(5)"
      ]
    },
    {
      "cell_type": "markdown",
      "metadata": {
        "id": "vtR1D2Aha-4M"
      },
      "source": [
        "### Feature columns"
      ]
    },
    {
      "cell_type": "code",
      "execution_count": 19,
      "metadata": {
        "id": "jujWwaoFNupi"
      },
      "outputs": [],
      "source": [
        "# Restaurant feature columns\n",
        "restaurant_feature_cols = {}\n",
        "\n",
        "restaurant_category_cols = [\n",
        "    \"Restaurants\",\n",
        "    \"Food\",\n",
        "    \"Bars\",\n",
        "    \"Sandwiches\",\n",
        "    \"American (Traditional)\",\n",
        "    \"Pizza\",\n",
        "    \"Coffee & Tea\",\n",
        "    \"Fast Food\",\n",
        "    \"Breakfast & Brunch\",\n",
        "    \"American (New)\",\n",
        "    \"Burgers\",\n",
        "    \"Mexican\",\n",
        "    \"Italian\",\n",
        "    \"Specialty Food\",\n",
        "    \"Seafood\",\n",
        "    \"Chinese\",\n",
        "    \"Bakeries\",\n",
        "    \"Salad\",\n",
        "    \"Chicken Wings\",\n",
        "    \"Cafes\",\n",
        "    \"Ice Cream & Frozen Yogurt\",\n",
        "    \"Caterers\",\n",
        "    \"Beer\",\n",
        "    \"Wine & Spirits\",\n",
        "    \"Delis\",\n",
        "    \"Japanese\",\n",
        "    \"Pubs\",\n",
        "    \"Cocktail Bars\",\n",
        "    \"Sushi Bars\",\n",
        "    \"Barbeque\",\n",
        "    \"Juice Bars & Smoothies\",\n",
        "    \"Asian Fusion\",\n",
        "    \"Diners\",\n",
        "]\n",
        "restaurant_feature_cols[\"category\"] = restaurant_category_cols\n",
        "\n",
        "\n",
        "restaurant_tf_attribute_cols = [\n",
        "    \"Caters\",\n",
        "    \"RestaurantsReservations\",\n",
        "    \"BikeParking\",\n",
        "    \"HasTV\",\n",
        "    \"RestaurantsTakeOut\",\n",
        "    \"BusinessAcceptsCreditCards\",\n",
        "    \"GoodForKids\",\n",
        "    \"RestaurantsDelivery\",\n",
        "    \"RestaurantsGoodForGroups\",\n",
        "    \"OutdoorSeating\",\n",
        "]\n",
        "restaurant_feature_cols[\"tf_attribute\"] = restaurant_tf_attribute_cols\n",
        "\n",
        "\n",
        "restaurant_ordinal_attribute_cols = [\n",
        "    \"WiFi\",\n",
        "    \"RestaurantsPriceRange2\",\n",
        "    \"NoiseLevel\",\n",
        "    \"Alcohol\",\n",
        "]\n",
        "restaurant_feature_cols[\"ordinal_attribute\"] = restaurant_ordinal_attribute_cols\n",
        "\n",
        "\n",
        "restaurant_BusinessParking_attribute_cols = [\"garage\", \"street\", \"lot\", \"valet\"]\n",
        "restaurant_feature_cols[\"BusinessParking_attribute\"] = (\n",
        "    restaurant_BusinessParking_attribute_cols\n",
        ")\n",
        "\n",
        "\n",
        "restaurant_Ambience_attribute_cols = [\n",
        "    \"touristy\",\n",
        "    \"hipster\",\n",
        "    \"romantic\",\n",
        "    \"divey\",\n",
        "    \"intimate\",\n",
        "    \"trendy\",\n",
        "    \"upscale\",\n",
        "    \"classy\",\n",
        "    \"casual\",\n",
        "]\n",
        "restaurant_feature_cols[\"Ambience_attribute\"] = restaurant_Ambience_attribute_cols\n",
        "\n",
        "\n",
        "restaurant_additional_cols = [\"restaurant_stars\", \"restaurant_review_count\", \"is_open\"]\n",
        "restaurant_feature_cols[\"additional\"] = restaurant_additional_cols"
      ]
    },
    {
      "cell_type": "code",
      "execution_count": 20,
      "metadata": {
        "id": "UM-j2Zo9SqVn"
      },
      "outputs": [],
      "source": [
        "# User feature columns\n",
        "user_feature_cols = {}\n",
        "\n",
        "user_review_cols = [\n",
        "    \"user_review_count\",\n",
        "    \"average_stars\",\n",
        "    \"cool\",\n",
        "    \"fans\",\n",
        "    \"funny\",\n",
        "    \"useful\",\n",
        "]\n",
        "user_feature_cols[\"review\"] = user_review_cols\n",
        "\n",
        "\n",
        "user_complement_cols = [\n",
        "    \"compliment_hot\",\n",
        "    \"compliment_more\",\n",
        "    \"compliment_profile\",\n",
        "    \"compliment_cute\",\n",
        "    \"compliment_list\",\n",
        "    \"compliment_note\",\n",
        "    \"compliment_plain\",\n",
        "    \"compliment_cool\",\n",
        "    \"compliment_funny\",\n",
        "    \"compliment_writer\",\n",
        "    \"compliment_photos\",\n",
        "]\n",
        "user_feature_cols[\"complement\"] = user_complement_cols\n",
        "\n",
        "\n",
        "user_other_cols = [\n",
        "    \"age\",\n",
        "    \"elite_year_count\",\n",
        "    \"rescaled_friend_count\"\n",
        "]\n",
        "user_feature_cols[\"other\"] = user_other_cols"
      ]
    },
    {
      "cell_type": "markdown",
      "metadata": {
        "id": "LqFu5EQtJT5e"
      },
      "source": [
        "## III. Modeling"
      ]
    },
    {
      "cell_type": "markdown",
      "metadata": {
        "id": "zZMFEJ48fs_w"
      },
      "source": [
        "### Content-Based Filtering\n",
        "\n",
        "In content-based filtering for your scenario, you predict a user's rating or preference for a restaurant based on the similarity of that restaurant to other restaurants the user has liked in the past. This method relies heavily on the features of the restaurants."
      ]
    },
    {
      "cell_type": "code",
      "execution_count": 57,
      "metadata": {
        "colab": {
          "base_uri": "https://localhost:8080/"
        },
        "id": "Jp-Bd1H42Pwx",
        "outputId": "93f57466-cff4-43c9-f790-f5e9c595db73"
      },
      "outputs": [
        {
          "name": "stdout",
          "output_type": "stream",
          "text": [
            "Number of features used: 63\n"
          ]
        }
      ],
      "source": [
        "feature_cols = []\n",
        "\n",
        "for feature_col in restaurant_feature_cols.keys():\n",
        "    feature_cols += restaurant_feature_cols[feature_col]\n",
        "\n",
        "print(f\"Number of features used: {len(feature_cols)}\")"
      ]
    },
    {
      "cell_type": "markdown",
      "metadata": {
        "id": "8dZQEdUl2roB"
      },
      "source": [
        "#### Training Content-Based Models"
      ]
    },
    {
      "cell_type": "code",
      "execution_count": 58,
      "metadata": {
        "id": "DUSbY7d10jDm"
      },
      "outputs": [],
      "source": [
        "from pyspark.ml.regression import LinearRegression, RandomForestRegressor\n",
        "from pyspark.ml.feature import VectorAssembler\n",
        "from pyspark.ml import Pipeline\n",
        "from pyspark.ml.evaluation import RegressionEvaluator\n",
        "\n",
        "# Assembling features\n",
        "assembler = VectorAssembler(inputCols=feature_cols, outputCol=\"features\")\n",
        "\n",
        "# Setting up Linear Regression Model\n",
        "linear_reg = LinearRegression(featuresCol=\"features\", labelCol=\"restaurant_stars\")\n",
        "pipeline_linear = Pipeline(stages=[assembler, linear_reg])\n",
        "linear_model = pipeline_linear.fit(restaurant_features)\n",
        "\n",
        "# Setting up Random Forest Model\n",
        "random_forest = RandomForestRegressor(featuresCol=\"features\", labelCol=\"restaurant_stars\")\n",
        "pipeline_rf = Pipeline(stages=[assembler, random_forest])\n",
        "rf_model = pipeline_rf.fit(restaurant_features)\n"
      ]
    },
    {
      "cell_type": "markdown",
      "metadata": {
        "id": "wrheCac72s3K"
      },
      "source": [
        "#### Applying the Models to Full Data"
      ]
    },
    {
      "cell_type": "code",
      "execution_count": 59,
      "metadata": {
        "id": "ctSamvc52u9z"
      },
      "outputs": [],
      "source": [
        "# Make predictions on the restaurant features\n",
        "restaurant_predictions_linear = linear_model.transform(restaurant_features)\n",
        "restaurant_predictions_rf = rf_model.transform(restaurant_features)\n",
        "\n",
        "# Selecting necessary columns for joining\n",
        "restaurant_predictions_linear = restaurant_predictions_linear.select('business_id', 'prediction').withColumnRenamed('prediction', 'predicted_stars_linear')\n",
        "restaurant_predictions_rf = restaurant_predictions_rf.select('business_id', 'prediction').withColumnRenamed('prediction', 'predicted_stars_rf')\n",
        "\n",
        "# Join predictions back to the full_data_df\n",
        "full_data_with_preds_df = full_data_df.join(restaurant_predictions_linear, on='business_id', how='left')\n",
        "full_data_with_preds_df = full_data_with_preds_df.join(restaurant_predictions_rf, on='business_id', how='left')\n"
      ]
    },
    {
      "cell_type": "markdown",
      "metadata": {
        "id": "B-R-xzrF21lf"
      },
      "source": [
        "#### Evaluation"
      ]
    },
    {
      "cell_type": "code",
      "execution_count": 60,
      "metadata": {
        "colab": {
          "base_uri": "https://localhost:8080/"
        },
        "id": "iDMARbnf2zq4",
        "outputId": "7bc3c4ba-1030-49be-bb14-2d5f1c1e9b26"
      },
      "outputs": [
        {
          "name": "stdout",
          "output_type": "stream",
          "text": [
            "Content-Based Filtering - Linear Regression - RMSE:  1.2551411266139847 , R²:  0.18829262727452578\n",
            "Content-Based Filtering - Random Forest - RMSE:  1.2611172019162042 , R²:  0.1805446978339954\n"
          ]
        }
      ],
      "source": [
        "# Setup evaluators\n",
        "rmse_evaluator = RegressionEvaluator(labelCol=\"stars\", predictionCol=\"predicted_stars_linear\", metricName=\"rmse\")\n",
        "r2_evaluator = RegressionEvaluator(labelCol=\"stars\", predictionCol=\"predicted_stars_linear\", metricName=\"r2\")\n",
        "\n",
        "# Evaluate Linear Regression\n",
        "rmse_linear = rmse_evaluator.evaluate(full_data_with_preds_df)\n",
        "r2_linear = r2_evaluator.evaluate(full_data_with_preds_df)\n",
        "\n",
        "# Evaluating Random Forest\n",
        "rmse_evaluator.setPredictionCol(\"predicted_stars_rf\")\n",
        "r2_evaluator.setPredictionCol(\"predicted_stars_rf\")\n",
        "rmse_rf = rmse_evaluator.evaluate(full_data_with_preds_df)\n",
        "r2_rf = r2_evaluator.evaluate(full_data_with_preds_df)\n",
        "\n",
        "# Print results\n",
        "print(\"Content-Based Filtering - Linear Regression - RMSE: \", rmse_linear, \", R²: \", r2_linear)\n",
        "print(\"Content-Based Filtering - Random Forest - RMSE: \", rmse_rf, \", R²: \", r2_rf)\n"
      ]
    },
    {
      "cell_type": "markdown",
      "metadata": {
        "id": "GnF1S4Vxfvoo"
      },
      "source": [
        "### Collaborative Filtering\n",
        "\n",
        "Collaborative filtering makes predictions about a user's interests by collecting preferences from many users. The underlying assumption is that if users A and B rate an item similarly, A is more likely to have B's opinion on different items than that of a randomly chosen user."
      ]
    },
    {
      "cell_type": "markdown",
      "metadata": {
        "id": "uto6df3dgcl1"
      },
      "source": [
        "#### Alternating Least Squares (ALS)\n",
        "\n",
        "Unlike basic user-based or item-based collaborative filtering that explicitly looks for neighbors (other users or items), ALS infers the latent factors that explain observed ratings and uses these factors to predict missing ratings."
      ]
    },
    {
      "cell_type": "code",
      "execution_count": 61,
      "metadata": {
        "colab": {
          "base_uri": "https://localhost:8080/"
        },
        "id": "2BbWFXN-j3NW",
        "outputId": "8cab7edf-28f9-4bff-9ba8-7720507d368e"
      },
      "outputs": [
        {
          "name": "stdout",
          "output_type": "stream",
          "text": [
            "+-------+-----------+-----+\n",
            "|user_id|business_id|stars|\n",
            "+-------+-----------+-----+\n",
            "| 117176|        819|  3.0|\n",
            "|  92882|       5888|  3.0|\n",
            "| 153361|       2842|  5.0|\n",
            "| 140699|       2733|  4.0|\n",
            "| 124775|       1222|  1.0|\n",
            "+-------+-----------+-----+\n",
            "only showing top 5 rows\n",
            "\n"
          ]
        }
      ],
      "source": [
        "# Revew table\n",
        "review_df = spark.read.csv(os.path.join(TRANSFORMED_FEATURE_PATH, 'transformed_review_df.csv'), header=True, inferSchema=True)\n",
        "# review_df = spark.read.csv(os.path.join(TRANSFORMED_FEATURE_PATH, 'transformed_review_df_sample.csv'), header=True, inferSchema=True)\n",
        "review_df = review_df.selectExpr(\"cast(user_id as int)\", \"cast(business_id as int)\", \"cast(stars as float)\")\n",
        "review_df.show(5)\n"
      ]
    },
    {
      "cell_type": "code",
      "execution_count": 62,
      "metadata": {
        "colab": {
          "base_uri": "https://localhost:8080/"
        },
        "id": "lAhS1lcFgbxk",
        "outputId": "2145d85e-7067-45df-dec6-c124f7fa6ad6"
      },
      "outputs": [
        {
          "name": "stdout",
          "output_type": "stream",
          "text": [
            "root\n",
            " |-- user_id: integer (nullable = true)\n",
            " |-- business_id: integer (nullable = true)\n",
            " |-- stars: float (nullable = true)\n",
            "\n",
            "ALS - RMSE:  2.2391026492375943 , R²:  -1.8613967632576731\n"
          ]
        }
      ],
      "source": [
        "# Print the schema to ensure the data types are correct\n",
        "review_df.printSchema()\n",
        "\n",
        "# Split the data into training and test sets\n",
        "(train, test) = review_df.randomSplit([0.8, 0.2])\n",
        "\n",
        "# Build the ALS model\n",
        "als = ALS(maxIter=15, regParam=0.01, userCol=\"user_id\", itemCol=\"business_id\", ratingCol=\"stars\", coldStartStrategy=\"drop\")\n",
        "model = als.fit(train)\n",
        "\n",
        "# Evaluate the model by computing the RMSE on the test data\n",
        "predictions = model.transform(test)\n",
        "\n",
        "rmse_evaluator = RegressionEvaluator(labelCol=\"stars\", predictionCol=\"prediction\", metricName=\"rmse\")\n",
        "r2_evaluator = RegressionEvaluator(labelCol=\"stars\", predictionCol=\"prediction\", metricName=\"r2\")\n",
        "\n",
        "rmse_als = rmse_evaluator.evaluate(predictions)\n",
        "r2_als = r2_evaluator.evaluate(predictions)\n",
        "\n",
        "print(\"ALS - RMSE: \", rmse_als, \", R²: \", r2_als)\n",
        "\n"
      ]
    },
    {
      "cell_type": "markdown",
      "metadata": {
        "id": "nbucDATdKPIn"
      },
      "source": [
        "### Integrating User and Restaurant Features in Collaborative Filtering\n",
        "\n",
        "In advanced model-based collaborative filtering, we integrate both user and restaurant features into the prediction model.\n",
        "\n",
        "We experimented with four regression models:\n",
        "- LR: Linear Regression\n",
        "- Ridge: Ridge Regression\n",
        "- RF: Random Forest Regressor\n",
        "- EN: Elastic Net"
      ]
    },
    {
      "cell_type": "code",
      "execution_count": 49,
      "metadata": {
        "id": "IcuWRSykNMWM"
      },
      "outputs": [],
      "source": [
        "from pyspark.ml.regression import LinearRegression, RandomForestRegressor\n",
        "from pyspark.ml.feature import VectorAssembler, StandardScaler, PCA\n",
        "from pyspark.ml.evaluation import RegressionEvaluator\n",
        "from pyspark.ml import Pipeline"
      ]
    },
    {
      "cell_type": "code",
      "execution_count": 40,
      "metadata": {
        "colab": {
          "base_uri": "https://localhost:8080/"
        },
        "id": "RIaggU9Utuo7",
        "outputId": "89755db8-e2ab-47d6-93c9-2418394077f2"
      },
      "outputs": [
        {
          "name": "stdout",
          "output_type": "stream",
          "text": [
            "+-------+-----------+-----+----------------+-----------------------+-------+--------------+----------------------+------------+--------+--------+----+----+------------------+-------+-----+--------+-------------+-------+-------------+------------+-----+------+---------+----+-------------------------+-------+--------+----------------------+-------+-----+----+-----------+-----+----------+-------+--------------+----------+--------------+------+-----------------------+-----------+-----+------------------+--------------------------+-----------+-------------------+------------------------+--------------+----+----------------------+----------+-------+------+------+---+-----+--------+-------+--------+-----+--------+------+-------+------+------+---------------------+-----------------+------------------+------------------+------------------+-----------------+-----------------+------------------+------------------+------------------+------------------+-------------------+-----------------+------------------+------------------+------------------+------------------+------------------+---+-------------+\n",
            "|user_id|business_id|stars|restaurant_stars|restaurant_review_count|is_open|American (New)|American (Traditional)|Asian Fusion|Bakeries|Barbeque|Bars|Beer|Breakfast & Brunch|Burgers|Cafes|Caterers|Chicken Wings|Chinese|Cocktail Bars|Coffee & Tea|Delis|Diners|Fast Food|Food|Ice Cream & Frozen Yogurt|Italian|Japanese|Juice Bars & Smoothies|Mexican|Pizza|Pubs|Restaurants|Salad|Sandwiches|Seafood|Specialty Food|Sushi Bars|Wine & Spirits|Caters|RestaurantsReservations|BikeParking|HasTV|RestaurantsTakeOut|BusinessAcceptsCreditCards|GoodForKids|RestaurantsDelivery|RestaurantsGoodForGroups|OutdoorSeating|WiFi|RestaurantsPriceRange2|NoiseLevel|Alcohol|garage|street|lot|valet|touristy|hipster|romantic|divey|intimate|trendy|upscale|classy|casual|rescaled_friend_count|user_review_count|            useful|             funny|              cool|             fans| elite_year_count|    compliment_hot|   compliment_more|compliment_profile|   compliment_cute|    compliment_list|  compliment_note|  compliment_plain|   compliment_cool|  compliment_funny| compliment_writer| compliment_photos|age|average_stars|\n",
            "+-------+-----------+-----+----------------+-----------------------+-------+--------------+----------------------+------------+--------+--------+----+----+------------------+-------+-----+--------+-------------+-------+-------------+------------+-----+------+---------+----+-------------------------+-------+--------+----------------------+-------+-----+----+-----------+-----+----------+-------+--------------+----------+--------------+------+-----------------------+-----------+-----+------------------+--------------------------+-----------+-------------------+------------------------+--------------+----+----------------------+----------+-------+------+------+---+-----+--------+-------+--------+-----+--------+------+-------+------+------+---------------------+-----------------+------------------+------------------+------------------+-----------------+-----------------+------------------+------------------+------------------+------------------+-------------------+-----------------+------------------+------------------+------------------+------------------+------------------+---+-------------+\n",
            "|     27|      60000|  3.0|             4.0|                    319|      0|             0|                     1|           0|       0|       0|   0|   0|                 0|      1|    0|       0|            0|      0|            0|           0|    0|     0|        0|   0|                        0|      0|       0|                     0|      0|    0|   0|          1|    0|         1|      0|             0|         0|             0|     1|                      1|          1|    1|                 1|                         1|          1|                  1|                       1|             0|   2|                     1|         2|      1|     0|     1|  0|    0|       0|      0|       0|    1|       0|     0|      0|     0|     1|   1.2868710385830833|1.969336845055092|1.9419596551067844|1.9068977356826275|1.9124081548094047|2.042081576444499|4.085951577710032|3.1630706636355077| 3.233739620008652| 5.084455466930772|6.3609917607455575|    9.7331959762247|2.225117796711681|2.1741381410155065|2.5335405424467963|2.5335405424467963| 2.720580652150168|3.5121079698651867| 15|         3.69|\n",
            "|     34|      29208|  1.0|             2.5|                     76|      1|             0|                     1|           0|       0|       0|   1|   0|                 0|      0|    0|       0|            0|      0|            0|           0|    0|     0|        0|   0|                        0|      0|       0|                     0|      0|    0|   0|          1|    0|         0|      0|             0|         0|             0|     0|                      0|          1|    1|                 1|                         1|          1|                  1|                       1|             0|   0|                     2|         1|      2|     0|     0|  1|    0|       0|      0|       0|    0|       0|     0|      0|     0|     1|   1.5791023177396084|2.145075727314441| 2.054678021137065| 1.883466861920782|1.9323253428475948|2.042790503857104|4.085951577802125| 3.163071918478129|3.2337396407279435| 5.084455466922027|6.3609917607455575|-0.1027411759141295| 2.22601335375699| 2.174119373555916| 2.533541184935702| 2.533541184935702|2.7696323003144414|3.5121079704053018| 16|         3.33|\n",
            "|     34|      44413|  3.0|             4.0|                     15|      0|             0|                     0|           0|       0|       0|   0|   0|                 0|      0|    0|       0|            0|      0|            0|           0|    0|     0|        0|   1|                        0|      0|       0|                     0|      0|    0|   0|          0|    0|         0|      0|             1|         0|             0|     0|                      0|          0|    0|                 1|                         1|          0|                  0|                       0|             0|   0|                     1|         2|      1|     0|     0|  1|    0|       0|      0|       0|    0|       0|     0|      0|     0|     0|   1.5791023177396084|2.145075727314441| 2.054678021137065| 1.883466861920782|1.9323253428475948|2.042790503857104|4.085951577802125| 3.163071918478129|3.2337396407279435| 5.084455466922027|6.3609917607455575|-0.1027411759141295| 2.22601335375699| 2.174119373555916| 2.533541184935702| 2.533541184935702|2.7696323003144414|3.5121079704053018| 16|         3.33|\n",
            "|     34|      51764|  2.0|             2.5|                    104|      1|             0|                     0|           0|       0|       0|   0|   0|                 0|      0|    0|       0|            0|      0|            0|           0|    0|     0|        1|   0|                        0|      0|       0|                     0|      0|    0|   0|          1|    0|         0|      0|             0|         0|             0|     1|                      0|          1|    1|                 1|                         1|          1|                  1|                       1|             0|   2|                     1|         2|      0|     0|     0|  1|    0|       0|      0|       0|    0|       0|     0|      0|     0|     1|   1.5791023177396084|2.145075727314441| 2.054678021137065| 1.883466861920782|1.9323253428475948|2.042790503857104|4.085951577802125| 3.163071918478129|3.2337396407279435| 5.084455466922027|6.3609917607455575|-0.1027411759141295| 2.22601335375699| 2.174119373555916| 2.533541184935702| 2.533541184935702|2.7696323003144414|3.5121079704053018| 16|         3.33|\n",
            "|     34|      52822|  3.0|             2.0|                      8|      0|             0|                     0|           0|       0|       0|   0|   0|                 0|      0|    0|       0|            0|      0|            0|           1|    0|     0|        0|   1|                        0|      0|       0|                     0|      0|    0|   0|          0|    0|         0|      0|             0|         0|             0|     0|                      0|          1|    0|                 0|                         1|          0|                  0|                       0|             1|   0|                     1|         2|      0|     0|     0|  0|    0|       0|      0|       0|    0|       0|     0|      0|     0|     0|   1.5791023177396084|2.145075727314441| 2.054678021137065| 1.883466861920782|1.9323253428475948|2.042790503857104|4.085951577802125| 3.163071918478129|3.2337396407279435| 5.084455466922027|6.3609917607455575|-0.1027411759141295| 2.22601335375699| 2.174119373555916| 2.533541184935702| 2.533541184935702|2.7696323003144414|3.5121079704053018| 16|         3.33|\n",
            "+-------+-----------+-----+----------------+-----------------------+-------+--------------+----------------------+------------+--------+--------+----+----+------------------+-------+-----+--------+-------------+-------+-------------+------------+-----+------+---------+----+-------------------------+-------+--------+----------------------+-------+-----+----+-----------+-----+----------+-------+--------------+----------+--------------+------+-----------------------+-----------+-----+------------------+--------------------------+-----------+-------------------+------------------------+--------------+----+----------------------+----------+-------+------+------+---+-----+--------+-------+--------+-----+--------+------+-------+------+------+---------------------+-----------------+------------------+------------------+------------------+-----------------+-----------------+------------------+------------------+------------------+------------------+-------------------+-----------------+------------------+------------------+------------------+------------------+------------------+---+-------------+\n",
            "only showing top 5 rows\n",
            "\n"
          ]
        }
      ],
      "source": [
        "(train, test) = full_data_df.randomSplit([0.8, 0.2])\n",
        "\n",
        "train.show(5)"
      ]
    },
    {
      "cell_type": "markdown",
      "metadata": {
        "id": "_1FnT8I9maKC"
      },
      "source": [
        "#### Experiment 1: Use a subset of features\n",
        "\n",
        "- Restaurant features used: `[\"category\", \"tf_attribute\"]`\n",
        "- User features userd: `[\"other\"]`\n",
        "  - \"age\", \"elite_year_count\", \"rescaled_friend_count\""
      ]
    },
    {
      "cell_type": "code",
      "execution_count": 41,
      "metadata": {
        "colab": {
          "base_uri": "https://localhost:8080/"
        },
        "id": "p3SzzdggYgG4",
        "outputId": "7b4472a1-8a30-47a8-a32b-382bf99865ac"
      },
      "outputs": [
        {
          "name": "stdout",
          "output_type": "stream",
          "text": [
            "Number of features used: 46\n"
          ]
        }
      ],
      "source": [
        "feature_cols = []\n",
        "\n",
        "for feature_col in [\"category\", \"tf_attribute\"]:\n",
        "    feature_cols += restaurant_feature_cols[feature_col]\n",
        "\n",
        "for feature_col in [\"other\"]:\n",
        "    feature_cols += user_feature_cols[feature_col]\n",
        "\n",
        "print(f\"Number of features used: {len(feature_cols)}\")"
      ]
    },
    {
      "cell_type": "code",
      "execution_count": 42,
      "metadata": {
        "id": "NHqKX6yfYbfy"
      },
      "outputs": [],
      "source": [
        "assembler = VectorAssembler(inputCols=feature_cols, outputCol=\"features\")\n",
        "\n",
        "# Linear Regression\n",
        "linear_reg = LinearRegression(featuresCol=\"features\", labelCol=\"stars\")\n",
        "pipeline = Pipeline(stages=[assembler, linear_reg])\n",
        "linear_model = pipeline.fit(train)\n",
        "\n",
        "# Ridge Regression\n",
        "ridge_reg = LinearRegression(featuresCol=\"features\", labelCol=\"stars\", elasticNetParam=0, regParam=0.1)\n",
        "pipeline_ridge = Pipeline(stages=[assembler, ridge_reg])\n",
        "ridge_model = pipeline_ridge.fit(train)\n",
        "\n",
        "# Random Forest Regression\n",
        "random_forest = RandomForestRegressor(featuresCol=\"features\", labelCol=\"stars\")\n",
        "pipeline_rf = Pipeline(stages=[assembler, random_forest])\n",
        "rf_model = pipeline_rf.fit(train)\n",
        "\n",
        "# Elastic Net\n",
        "elastic_net = LinearRegression(featuresCol=\"features\", labelCol=\"stars\", elasticNetParam=1, regParam=0.1)\n",
        "pipeline_en = Pipeline(stages=[assembler, elastic_net])\n",
        "en_model = pipeline_en.fit(train)"
      ]
    },
    {
      "cell_type": "code",
      "execution_count": 44,
      "metadata": {
        "colab": {
          "base_uri": "https://localhost:8080/"
        },
        "id": "caU5FLJVdZwl",
        "outputId": "fa910eb7-ffe8-417a-d725-859fd091a49a"
      },
      "outputs": [
        {
          "name": "stdout",
          "output_type": "stream",
          "text": [
            "Linear Regression - RMSE:  1.363684895256322 , R²:  0.0393181095553824\n",
            "Ridge Regression - RMSE:  1.3637748670986642 , R²:  0.039191339549749404\n",
            "Random Forest - RMSE:  1.3644812383650156 , R²:  0.03819577435680732\n",
            "Elastic Net - RMSE:  1.3842353739413693 , R²:  0.010145343200534174\n"
          ]
        }
      ],
      "source": [
        "# Evaluators for RMSE and R²\n",
        "rmse_evaluator = RegressionEvaluator(labelCol=\"stars\", predictionCol=\"prediction\", metricName=\"rmse\")\n",
        "r2_evaluator = RegressionEvaluator(labelCol=\"stars\", predictionCol=\"prediction\", metricName=\"r2\")\n",
        "\n",
        "# Evaluate each model for both RMSE and R²\n",
        "rmse_linear = rmse_evaluator.evaluate(linear_model.transform(test))\n",
        "r2_linear = r2_evaluator.evaluate(linear_model.transform(test))\n",
        "\n",
        "rmse_ridge = rmse_evaluator.evaluate(ridge_model.transform(test))\n",
        "r2_ridge = r2_evaluator.evaluate(ridge_model.transform(test))\n",
        "\n",
        "rmse_rf = rmse_evaluator.evaluate(rf_model.transform(test))\n",
        "r2_rf = r2_evaluator.evaluate(rf_model.transform(test))\n",
        "\n",
        "rmse_en = rmse_evaluator.evaluate(en_model.transform(test))\n",
        "r2_en = r2_evaluator.evaluate(en_model.transform(test))\n",
        "\n",
        "# Print results\n",
        "print(\"Linear Regression - RMSE: \", rmse_linear, \", R²: \", r2_linear)\n",
        "print(\"Ridge Regression - RMSE: \", rmse_ridge, \", R²: \", r2_ridge)\n",
        "print(\"Random Forest - RMSE: \", rmse_rf, \", R²: \", r2_rf)\n",
        "print(\"Elastic Net - RMSE: \", rmse_en, \", R²: \", r2_en)\n"
      ]
    },
    {
      "cell_type": "markdown",
      "metadata": {
        "id": "l3IQgQMPmpzx"
      },
      "source": [
        "#### Experiment 2: Use all the features\n",
        "\n",
        "- Restaurant features used: `['category', 'tf_attribute', 'ordinal_attribute', 'BusinessParking_attribute', 'Ambience_attribute', 'additional']`\n",
        "- User features userd: `['review', 'complement', 'other']`"
      ]
    },
    {
      "cell_type": "code",
      "execution_count": 45,
      "metadata": {
        "colab": {
          "base_uri": "https://localhost:8080/"
        },
        "id": "13Oxqwv8mACm",
        "outputId": "14351537-056c-4b05-91fa-566c883d6ad5"
      },
      "outputs": [
        {
          "name": "stdout",
          "output_type": "stream",
          "text": [
            "Number of features used: 83\n"
          ]
        }
      ],
      "source": [
        "feature_cols = []\n",
        "\n",
        "for feature_col in ['category', 'tf_attribute', 'ordinal_attribute', 'BusinessParking_attribute', 'Ambience_attribute', 'additional']:\n",
        "    feature_cols += restaurant_feature_cols[feature_col]\n",
        "\n",
        "for feature_col in ['review', 'complement', 'other']:\n",
        "    feature_cols += user_feature_cols[feature_col]\n",
        "\n",
        "print(f\"Number of features used: {len(feature_cols)}\")"
      ]
    },
    {
      "cell_type": "code",
      "execution_count": 46,
      "metadata": {
        "id": "i6NGoNrbmAAP"
      },
      "outputs": [],
      "source": [
        "assembler = VectorAssembler(inputCols=feature_cols, outputCol=\"features\")\n",
        "\n",
        "# Linear Regression\n",
        "linear_reg = LinearRegression(featuresCol=\"features\", labelCol=\"stars\")\n",
        "pipeline = Pipeline(stages=[assembler, linear_reg])\n",
        "linear_model = pipeline.fit(train)\n",
        "\n",
        "# Ridge Regression\n",
        "ridge_reg = LinearRegression(featuresCol=\"features\", labelCol=\"stars\", elasticNetParam=0, regParam=0.1)\n",
        "pipeline_ridge = Pipeline(stages=[assembler, ridge_reg])\n",
        "ridge_model = pipeline_ridge.fit(train)\n",
        "\n",
        "# Random Forest Regression\n",
        "random_forest = RandomForestRegressor(featuresCol=\"features\", labelCol=\"stars\")\n",
        "pipeline_rf = Pipeline(stages=[assembler, random_forest])\n",
        "rf_model = pipeline_rf.fit(train)\n",
        "\n",
        "# Elastic Net\n",
        "elastic_net = LinearRegression(featuresCol=\"features\", labelCol=\"stars\", elasticNetParam=1, regParam=0.1)\n",
        "pipeline_en = Pipeline(stages=[assembler, elastic_net])\n",
        "en_model = pipeline_en.fit(train)"
      ]
    },
    {
      "cell_type": "code",
      "execution_count": 47,
      "metadata": {
        "colab": {
          "base_uri": "https://localhost:8080/"
        },
        "id": "OyhHCM68m9uc",
        "outputId": "4ed4fed3-3daf-413a-cab6-926ef5945921"
      },
      "outputs": [
        {
          "name": "stdout",
          "output_type": "stream",
          "text": [
            "Linear Regression - RMSE:  1.0800209126800548 , R²:  0.3974183897463027\n",
            "Ridge Regression - RMSE:  1.0813167403323487 , R²:  0.3959715467492254\n",
            "Random Forest - RMSE:  1.1053815971563026 , R²:  0.3687868995754693\n",
            "Elastic Net - RMSE:  1.0883334095144759 , R²:  0.3881070261255215\n"
          ]
        }
      ],
      "source": [
        "# Evaluators for RMSE and R²\n",
        "rmse_evaluator = RegressionEvaluator(labelCol=\"stars\", predictionCol=\"prediction\", metricName=\"rmse\")\n",
        "r2_evaluator = RegressionEvaluator(labelCol=\"stars\", predictionCol=\"prediction\", metricName=\"r2\")\n",
        "\n",
        "# Evaluate each model for both RMSE and R²\n",
        "rmse_linear = rmse_evaluator.evaluate(linear_model.transform(test))\n",
        "r2_linear = r2_evaluator.evaluate(linear_model.transform(test))\n",
        "\n",
        "rmse_ridge = rmse_evaluator.evaluate(ridge_model.transform(test))\n",
        "r2_ridge = r2_evaluator.evaluate(ridge_model.transform(test))\n",
        "\n",
        "rmse_rf = rmse_evaluator.evaluate(rf_model.transform(test))\n",
        "r2_rf = r2_evaluator.evaluate(rf_model.transform(test))\n",
        "\n",
        "rmse_en = rmse_evaluator.evaluate(en_model.transform(test))\n",
        "r2_en = r2_evaluator.evaluate(en_model.transform(test))\n",
        "\n",
        "# Print results\n",
        "print(\"Linear Regression - RMSE: \", rmse_linear, \", R²: \", r2_linear)\n",
        "print(\"Ridge Regression - RMSE: \", rmse_ridge, \", R²: \", r2_ridge)\n",
        "print(\"Random Forest - RMSE: \", rmse_rf, \", R²: \", r2_rf)\n",
        "print(\"Elastic Net - RMSE: \", rmse_en, \", R²: \", r2_en)\n"
      ]
    },
    {
      "cell_type": "markdown",
      "metadata": {
        "id": "8q8s2qh5qhFK"
      },
      "source": [
        "#### Experiment 3: PCA + all features\n",
        "\n",
        "- Normalize the features\n",
        "- Dimensionality Reduction with PCA\n",
        "- Restaurant features used: `['category', 'tf_attribute', 'ordinal_attribute', 'BusinessParking_attribute', 'Ambience_attribute', 'additional']`\n",
        "- User features userd: `['review', 'complement', 'other']`"
      ]
    },
    {
      "cell_type": "code",
      "execution_count": 48,
      "metadata": {
        "colab": {
          "base_uri": "https://localhost:8080/"
        },
        "id": "8fMECyZoq1oJ",
        "outputId": "e82d9b45-9c2c-4926-9b83-6d10e4d12226"
      },
      "outputs": [
        {
          "name": "stdout",
          "output_type": "stream",
          "text": [
            "Number of features used: 83\n"
          ]
        }
      ],
      "source": [
        "feature_cols = []\n",
        "\n",
        "for feature_col in ['category', 'tf_attribute', 'ordinal_attribute', 'BusinessParking_attribute', 'Ambience_attribute', 'additional']:\n",
        "    feature_cols += restaurant_feature_cols[feature_col]\n",
        "\n",
        "for feature_col in ['review', 'complement', 'other']:\n",
        "    feature_cols += user_feature_cols[feature_col]\n",
        "\n",
        "print(f\"Number of features used: {len(feature_cols)}\")"
      ]
    },
    {
      "cell_type": "code",
      "execution_count": 52,
      "metadata": {
        "colab": {
          "base_uri": "https://localhost:8080/"
        },
        "id": "faQU9lqkyb5Y",
        "outputId": "c156506e-8b10-4a6c-96e1-8fd214544636"
      },
      "outputs": [
        {
          "name": "stdout",
          "output_type": "stream",
          "text": [
            "Number of components to explain 95% of variance: 67\n"
          ]
        }
      ],
      "source": [
        "from pyspark.ml.feature import PCA, VectorAssembler, StandardScaler\n",
        "from pyspark.ml import Pipeline\n",
        "\n",
        "# Assemble and scale data\n",
        "assembler = VectorAssembler(inputCols=feature_cols, outputCol=\"features\")\n",
        "scaler = StandardScaler(inputCol=\"features\", outputCol=\"scaled_features\", withStd=True, withMean=True)\n",
        "\n",
        "# Apply PCA with a high number of components\n",
        "pca = PCA(k=len(feature_cols), inputCol=\"scaled_features\", outputCol=\"pca_features\")\n",
        "pipeline = Pipeline(stages=[assembler, scaler, pca])\n",
        "\n",
        "# Fit the model\n",
        "pca_model = pipeline.fit(full_data_df)\n",
        "transformed_data = pca_model.transform(full_data_df)\n",
        "\n",
        "# Explained variance\n",
        "explained_variance = pca_model.stages[-1].explainedVariance.cumsum()\n",
        "\n",
        "# Determine k for at least 95% variance\n",
        "k = len(explained_variance[explained_variance < 0.95]) + 1\n",
        "\n",
        "print(f\"Number of components to explain 95% of variance: {k}\")\n"
      ]
    },
    {
      "cell_type": "code",
      "execution_count": 53,
      "metadata": {
        "id": "dBuMgZbBZeno"
      },
      "outputs": [],
      "source": [
        "assembler = VectorAssembler(inputCols=feature_cols, outputCol=\"features\")\n",
        "scaler = StandardScaler(inputCol=\"features\", outputCol=\"scaled_features\", withStd=True, withMean=True)\n",
        "pca = PCA(k=67, inputCol=\"scaled_features\", outputCol=\"pca_features\")\n",
        "\n",
        "# Linear Regression\n",
        "linear_reg = LinearRegression(featuresCol=\"pca_features\", labelCol=\"stars\")\n",
        "pipeline = Pipeline(stages=[assembler, scaler, pca, linear_reg])\n",
        "linear_model = pipeline.fit(train)\n",
        "\n",
        "# Ridge Regression\n",
        "ridge_reg = LinearRegression(featuresCol=\"pca_features\", labelCol=\"stars\", elasticNetParam=0, regParam=0.1)\n",
        "pipeline_ridge = Pipeline(stages=[assembler, scaler, pca, ridge_reg])\n",
        "ridge_model = pipeline_ridge.fit(train)\n",
        "\n",
        "# Random Forest Regression\n",
        "random_forest = RandomForestRegressor(featuresCol=\"pca_features\", labelCol=\"stars\")\n",
        "pipeline_rf = Pipeline(stages=[assembler, scaler, pca, random_forest])\n",
        "rf_model = pipeline_rf.fit(train)\n",
        "\n",
        "# Elastic Net\n",
        "elastic_net = LinearRegression(featuresCol=\"pca_features\", labelCol=\"stars\", elasticNetParam=1, regParam=0.1)\n",
        "pipeline_en = Pipeline(stages=[assembler, scaler, pca, elastic_net])\n",
        "en_model = pipeline_en.fit(train)\n"
      ]
    },
    {
      "cell_type": "code",
      "execution_count": 54,
      "metadata": {
        "colab": {
          "base_uri": "https://localhost:8080/"
        },
        "id": "t-DvFzjdwpJj",
        "outputId": "4bf8bb08-47d5-4a3e-b9b7-cc0c66afc5d2"
      },
      "outputs": [
        {
          "name": "stdout",
          "output_type": "stream",
          "text": [
            "Linear Regression - RMSE:  1.0814929791515038 , R²:  0.39577463509045097\n",
            "Ridge Regression - RMSE:  1.0830263336638355 , R²:  0.39406006365359847\n",
            "Random Forest - RMSE:  1.228313963327561 , R²:  0.2205821967995728\n",
            "Elastic Net - RMSE:  1.185369434302373 , R²:  0.27412975741922907\n"
          ]
        }
      ],
      "source": [
        "# Evaluators for RMSE and R²\n",
        "rmse_evaluator = RegressionEvaluator(labelCol=\"stars\", predictionCol=\"prediction\", metricName=\"rmse\")\n",
        "r2_evaluator = RegressionEvaluator(labelCol=\"stars\", predictionCol=\"prediction\", metricName=\"r2\")\n",
        "\n",
        "# Evaluate each model for both RMSE and R²\n",
        "rmse_linear = rmse_evaluator.evaluate(linear_model.transform(test))\n",
        "r2_linear = r2_evaluator.evaluate(linear_model.transform(test))\n",
        "\n",
        "rmse_ridge = rmse_evaluator.evaluate(ridge_model.transform(test))\n",
        "r2_ridge = r2_evaluator.evaluate(ridge_model.transform(test))\n",
        "\n",
        "rmse_rf = rmse_evaluator.evaluate(rf_model.transform(test))\n",
        "r2_rf = r2_evaluator.evaluate(rf_model.transform(test))\n",
        "\n",
        "rmse_en = rmse_evaluator.evaluate(en_model.transform(test))\n",
        "r2_en = r2_evaluator.evaluate(en_model.transform(test))\n",
        "\n",
        "# Print results\n",
        "print(\"Linear Regression - RMSE: \", rmse_linear, \", R²: \", r2_linear)\n",
        "print(\"Ridge Regression - RMSE: \", rmse_ridge, \", R²: \", r2_ridge)\n",
        "print(\"Random Forest - RMSE: \", rmse_rf, \", R²: \", r2_rf)\n",
        "print(\"Elastic Net - RMSE: \", rmse_en, \", R²: \", r2_en)\n"
      ]
    },
    {
      "cell_type": "code",
      "execution_count": 64,
      "metadata": {
        "id": "BTnxxr3N6WTK"
      },
      "outputs": [],
      "source": [
        "# Stop Spark session\n",
        "spark.stop()"
      ]
    },
    {
      "cell_type": "markdown",
      "metadata": {
        "id": "OzHIWZFY5Gg7"
      },
      "source": [
        "## IV. Results\n",
        "\n",
        "Content-Based Filtering\n",
        "```bash\n",
        "Content-Based Filtering - Linear Regression - RMSE:  1.2551411266139847 , R²:  0.18829262727452578\n",
        "Content-Based Filtering - Random Forest - RMSE:  1.2611172019162042 , R²:  0.1805446978339954\n",
        "```\n",
        "\n",
        "Collaborative Filtering\n",
        "```bash\n",
        "ALS - RMSE:  2.2391026492375943 , R²:  -1.8613967632576731\n",
        "```\n",
        "\n",
        "Integrating User and Restaurant Features in Collaborative Filtering\n",
        "```bash\n",
        "Experiment 1:\n",
        "Linear Regression - RMSE:  1.363684895256322 , R²:  0.0393181095553824\n",
        "Ridge Regression - RMSE:  1.3637748670986642 , R²:  0.039191339549749404\n",
        "Random Forest - RMSE:  1.3644812383650156 , R²:  0.03819577435680732\n",
        "Elastic Net - RMSE:  1.3842353739413693 , R²:  0.010145343200534174\n",
        "\n",
        "Experiment 2:\n",
        "Linear Regression - RMSE:  1.0800209126800548 , R²:  0.3974183897463027\n",
        "Ridge Regression - RMSE:  1.0813167403323487 , R²:  0.3959715467492254\n",
        "Random Forest - RMSE:  1.1053815971563026 , R²:  0.3687868995754693\n",
        "Elastic Net - RMSE:  1.0883334095144759 , R²:  0.3881070261255215\n",
        "\n",
        "Experiment 3:\n",
        "Linear Regression - RMSE:  1.0814929791515038 , R²:  0.39577463509045097\n",
        "Ridge Regression - RMSE:  1.0830263336638355 , R²:  0.39406006365359847\n",
        "Random Forest - RMSE:  1.228313963327561 , R²:  0.2205821967995728\n",
        "Elastic Net - RMSE:  1.185369434302373 , R²:  0.27412975741922907\n",
        "```"
      ]
    },
    {
      "cell_type": "code",
      "execution_count": 77,
      "metadata": {
        "id": "ViSdxFh77eRH"
      },
      "outputs": [],
      "source": [
        "import matplotlib.pyplot as plt\n",
        "import numpy as np"
      ]
    },
    {
      "cell_type": "code",
      "execution_count": 63,
      "metadata": {
        "id": "ZkI3PgRvwpG-"
      },
      "outputs": [],
      "source": [
        "# Model names and their performances\n",
        "models = ['Content-Based LR', 'Content-Based RF', 'ALS', 'Integrated LR', 'Integrated Ridge', 'Integrated RF', 'Integrated EN']\n",
        "rmse_values = [1.2551, 1.2611, 2.2391, 1.0800, 1.0813, 1.1054, 1.0883]\n",
        "r2_values = [0.1883, 0.1805, -1.8614, 0.3974, 0.3959, 0.3688, 0.3881]\n"
      ]
    },
    {
      "cell_type": "code",
      "execution_count": 76,
      "metadata": {
        "colab": {
          "base_uri": "https://localhost:8080/",
          "height": 607
        },
        "id": "z5EneD6CwpE6",
        "outputId": "50c75ac9-6e94-4caa-c6af-5e68e9e597cc"
      },
      "outputs": [
        {
          "data": {
            "image/png": "[encoded data removed]",
            "text/plain": [
              "<Figure size 600x600 with 1 Axes>"
            ]
          },
          "metadata": {},
          "output_type": "display_data"
        }
      ],
      "source": [
        "fig, ax = plt.subplots(figsize=(6, 6))\n",
        "\n",
        "# RMSE Plot\n",
        "indices = np.arange(len(rmse_values))\n",
        "ax.bar(indices, rmse_values, color='skyblue')\n",
        "ax.set_xlabel('Models', fontsize=12)\n",
        "ax.set_ylabel('RMSE', fontsize=12)\n",
        "ax.set_title('Comparison of Model RMSE', fontsize=15)\n",
        "ax.set_xticks(indices)\n",
        "ax.set_xticklabels(models, rotation=45, ha=\"right\", fontsize=11)\n",
        "ax.set_ylim(min(rmse_values) - 0.2, max(rmse_values) + 0.2)\n",
        "\n",
        "# Add value labels on top of each bar\n",
        "for i, v in enumerate(rmse_values):\n",
        "    ax.text(i, v + 0.05, f\"{v:.2f}\", ha='center', color='black')\n",
        "\n",
        "plt.tight_layout()\n",
        "plt.show()\n"
      ]
    },
    {
      "cell_type": "code",
      "execution_count": 71,
      "metadata": {
        "colab": {
          "base_uri": "https://localhost:8080/",
          "height": 607
        },
        "id": "uJu4B_RusjmQ",
        "outputId": "02177216-e9d1-4a2b-957e-092e2831032f"
      },
      "outputs": [
        {
          "data": {
            "image/png": "[encoded data removed]",
            "text/plain": [
              "<Figure size 600x600 with 1 Axes>"
            ]
          },
          "metadata": {},
          "output_type": "display_data"
        }
      ],
      "source": [
        "fig, ax = plt.subplots(figsize=(, 6))\n",
        "\n",
        "# R² Plot\n",
        "indices = np.arange(len(r2_values))\n",
        "ax.bar(indices, r2_values, color='lightgreen')\n",
        "ax.set_xlabel('Models', fontsize=12)\n",
        "ax.set_ylabel('R²', fontsize=12)\n",
        "ax.set_title('Comparison of Model R² Scores', fontsize=15)\n",
        "ax.set_xticks(indices)\n",
        "ax.set_xticklabels(models, rotation=45, ha=\"right\", fontsize=11)\n",
        "ax.set_ylim(min(r2_values) - 0.2, 1)  # Adjust ylim to give some space for the negative value\n",
        "\n",
        "# Add value labels on top of each bar\n",
        "for i, v in enumerate(r2_values):\n",
        "    ax.text(i, v + 0.05, f\"{v:.2f}\", ha='center', color='black')\n",
        "\n",
        "plt.tight_layout()\n",
        "plt.show()\n"
      ]
    },
    {
      "cell_type": "code",
      "execution_count": 78,
      "metadata": {
        "id": "xK4bhPrN7f3r"
      },
      "outputs": [],
      "source": [
        "# Labels for the models and experiments\n",
        "experiments = ['Experiment 1', 'Experiment 2', 'Experiment 3']\n",
        "models = ['Linear Regression', 'Ridge Regression', 'Random Forest', 'Elastic Net']\n",
        "\n",
        "# RMSE values for each model in each experiment\n",
        "rmse_values = {\n",
        "    'Linear Regression': [1.3637, 1.0800, 1.0815],\n",
        "    'Ridge Regression': [1.3638, 1.0813, 1.0830],\n",
        "    'Random Forest': [1.3645, 1.1054, 1.2283],\n",
        "    'Elastic Net': [1.3842, 1.0883, 1.1854]\n",
        "}\n",
        "\n",
        "# R^2 values for each model in each experiment\n",
        "r2_values = {\n",
        "    'Linear Regression': [0.0393, 0.3974, 0.3958],\n",
        "    'Ridge Regression': [0.0392, 0.3960, 0.3941],\n",
        "    'Random Forest': [0.0382, 0.3688, 0.2206],\n",
        "    'Elastic Net': [0.0101, 0.3881, 0.2741]\n",
        "}\n"
      ]
    },
    {
      "cell_type": "code",
      "execution_count": 94,
      "metadata": {
        "id": "Fl2dBUkH8CWV"
      },
      "outputs": [],
      "source": [
        "import matplotlib.pyplot as plt\n",
        "import numpy as np\n",
        "\n",
        "def plot_metrics(values, title, ylabel, ylim=None):\n",
        "    fig, ax = plt.subplots(figsize=(8, 6))\n",
        "    bar_width = 0.2\n",
        "    colors = ['steelblue', 'forestgreen', 'salmon', 'orange']\n",
        "\n",
        "    # Create bars for each model\n",
        "    for i, model in enumerate(models):\n",
        "        offsets = np.arange(len(experiments))  # the label locations\n",
        "        ax.bar(offsets + i*bar_width, values[model], width=bar_width, label=model, color=colors[i])\n",
        "\n",
        "    # Add some text for labels, title and custom x-axis tick labels, etc.\n",
        "    ax.set_xlabel('Experiments', fontsize=12)\n",
        "    ax.set_ylabel(ylabel, fontsize=12)\n",
        "    ax.set_title(title, fontsize=15)\n",
        "    ax.set_xticks(offsets + bar_width + bar_width/2)\n",
        "    ax.set_xticklabels(experiments)\n",
        "    ax.legend()\n",
        "\n",
        "    if ylim:\n",
        "        ax.set_ylim(ylim)\n",
        "\n",
        "    # Add value labels on top of each bar\n",
        "    for i, model in enumerate(models):\n",
        "        for idx, val in enumerate(values[model]):\n",
        "            ax.text(idx + i*bar_width, val + 0.01, f\"{val:.2f}\", ha='center')\n",
        "\n",
        "    plt.tight_layout()\n",
        "    plt.show()\n"
      ]
    },
    {
      "cell_type": "code",
      "execution_count": 95,
      "metadata": {
        "colab": {
          "base_uri": "https://localhost:8080/",
          "height": 607
        },
        "id": "rmRR9w8ysjkC",
        "outputId": "44634370-c82a-4935-fa8a-4a091588d07a"
      },
      "outputs": [
        {
          "data": {
            "image/png": "[encoded data removed]",
            "text/plain": [
              "<Figure size 800x600 with 1 Axes>"
            ]
          },
          "metadata": {},
          "output_type": "display_data"
        }
      ],
      "source": [
        "plot_metrics(rmse_values, 'RMSE Across Experiments', 'RMSE', [min(min(rmse_values.values())) - 0.2, max(max(rmse_values.values())) + 0.2])"
      ]
    },
    {
      "cell_type": "code",
      "execution_count": 96,
      "metadata": {
        "colab": {
          "base_uri": "https://localhost:8080/",
          "height": 607
        },
        "id": "2HfGLiBVGlEA",
        "outputId": "a11e4361-d98d-45b5-95ca-85f2f8b2b01f"
      },
      "outputs": [
        {
          "data": {
            "image/png": "[encoded data removed]",
            "text/plain": [
              "<Figure size 800x600 with 1 Axes>"
            ]
          },
          "metadata": {},
          "output_type": "display_data"
        }
      ],
      "source": [
        "plot_metrics(r2_values, 'R² Across Experiments', 'R²', [min(min(r2_values.values())) - 0.1, 1])"
      ]
    },
    {
      "cell_type": "code",
      "execution_count": null,
      "metadata": {
        "id": "MEXPV8L98NL2"
      },
      "outputs": [],
      "source": []
    }
  ],
  "metadata": {
    "colab": {
      "machine_shape": "hm",
      "provenance": [],
      "toc_visible": true
    },
    "kernelspec": {
      "display_name": "Python 3",
      "name": "python3"
    },
    "language_info": {
      "name": "python"
    }
  },
  "nbformat": 4,
  "nbformat_minor": 0
}
